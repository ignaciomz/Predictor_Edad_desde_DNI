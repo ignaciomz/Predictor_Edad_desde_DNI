{
  "nbformat": 4,
  "nbformat_minor": 0,
  "metadata": {
    "colab": {
      "provenance": [],
      "include_colab_link": true
    },
    "kernelspec": {
      "name": "python3",
      "display_name": "Python 3"
    },
    "language_info": {
      "name": "python"
    }
  },
  "cells": [
    {
      "cell_type": "markdown",
      "metadata": {
        "id": "view-in-github",
        "colab_type": "text"
      },
      "source": [
        "<a href=\"https://colab.research.google.com/github/ignaciomz/Predictor_Edad_desde_DNI/blob/main/predictoredadpordni.ipynb\" target=\"_parent\"><img src=\"https://colab.research.google.com/assets/colab-badge.svg\" alt=\"Open In Colab\"/></a>"
      ]
    },
    {
      "cell_type": "code",
      "source": [
        "# Hay que tener cargado en Drive el pkl del modelo entrenado"
      ],
      "metadata": {
        "id": "-HClEiXu353E"
      },
      "execution_count": null,
      "outputs": []
    },
    {
      "cell_type": "code",
      "source": [
        "#Importa el modelo ya entrenado\n",
        "\n",
        "import joblib\n",
        "modelo_guardado = joblib.load('/content/modelo_edad_dni.pkl')"
      ],
      "metadata": {
        "id": "kQiqTpPU3p_n"
      },
      "execution_count": null,
      "outputs": []
    },
    {
      "cell_type": "code",
      "source": [
        "import joblib\n",
        "modelo = joblib.load(\"modelo_edad_dni.pkl\")\n",
        "\n",
        "nuevo_dni = [[42834405]] # Reemplazar con el DNI deseado\n",
        "edad_predicha = modelo.predict(nuevo_dni)\n",
        "print(f\"Edad estimada: {edad_predicha[0]:.2f} años\")"
      ],
      "metadata": {
        "colab": {
          "base_uri": "https://localhost:8080/"
        },
        "id": "KpBh_qEEXiBA",
        "outputId": "f868ccf5-c8b4-479c-ba84-37f9ec006156"
      },
      "execution_count": null,
      "outputs": [
        {
          "output_type": "stream",
          "name": "stdout",
          "text": [
            "Edad estimada: 25.13 años\n"
          ]
        },
        {
          "output_type": "stream",
          "name": "stderr",
          "text": [
            "/usr/local/lib/python3.11/dist-packages/sklearn/utils/validation.py:2739: UserWarning: X does not have valid feature names, but RandomForestRegressor was fitted with feature names\n",
            "  warnings.warn(\n"
          ]
        }
      ]
    },
    {
      "cell_type": "code",
      "execution_count": null,
      "metadata": {
        "colab": {
          "base_uri": "https://localhost:8080/"
        },
        "id": "Hz-n_IfV3gOB",
        "outputId": "348ab174-339c-4aef-b264-b27f898c00d5"
      },
      "outputs": [
        {
          "output_type": "stream",
          "name": "stdout",
          "text": [
            "Predicciones completadas. Archivo guardado en: /content/Predicciones.xlsx\n"
          ]
        }
      ],
      "source": [
        "import pandas as pd\n",
        "import joblib\n",
        "\n",
        "# Cargar el modelo entrenado\n",
        "modelo_guardado = joblib.load('modelo_edad_dni.pkl')\n",
        "\n",
        "# Ruta del nuevo archivo con DNIs a predecir (reemplázala con la tuya en Drive)\n",
        "ruta_nuevos_dni = \"/content/Para procesar.xlsx\"\n",
        "\n",
        "# Cargar el archivo con los nuevos DNIs (sin edades)\n",
        "df_nuevos = pd.read_excel(ruta_nuevos_dni)\n",
        "\n",
        "# Verificar que la columna DNI exista\n",
        "if 'DNI' not in df_nuevos.columns:\n",
        "    raise ValueError(\"El archivo debe contener una columna llamada 'DNI'.\")\n",
        "\n",
        "# Predecir la edad para cada DNI\n",
        "df_nuevos['Edad_Predicha'] = modelo_guardado.predict(df_nuevos[['DNI']])\n",
        "\n",
        "# Guardar el archivo con las predicciones\n",
        "ruta_salida = \"/content/Predicciones.xlsx\"\n",
        "df_nuevos.to_excel(ruta_salida, index=False)\n",
        "\n",
        "print(f\"Predicciones completadas. Archivo guardado en: {ruta_salida}\")\n",
        "\n"
      ]
    }
  ]
}